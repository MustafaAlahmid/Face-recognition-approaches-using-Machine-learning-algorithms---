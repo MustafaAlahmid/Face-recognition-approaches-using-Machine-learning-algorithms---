{
 "cells": [
  {
   "cell_type": "markdown",
   "metadata": {},
   "source": [
    "# Face recognition using CNN "
   ]
  },
  {
   "cell_type": "markdown",
   "metadata": {},
   "source": [
    "# importing the require libraries "
   ]
  },
  {
   "cell_type": "code",
   "execution_count": 20,
   "metadata": {},
   "outputs": [],
   "source": [
    "from sklearn.preprocessing import LabelEncoder\n",
    "from sklearn.preprocessing import OneHotEncoder\n",
    "from keras.utils import to_categorical\n",
    "from os import listdir\n",
    "import cv2\n",
    "from os.path import isdir\n",
    "from PIL import Image\n",
    "from matplotlib import pyplot\n",
    "from numpy import savez_compressed\n",
    "from numpy import asarray\n",
    "import numpy as np \n",
    "from mtcnn.mtcnn import MTCNN\n",
    "import keras\n",
    "from keras.models import Sequential\n",
    "from keras.layers import Dense, Dropout, Flatten\n",
    "from keras.layers import Conv2D, MaxPooling2D\n",
    "from keras.callbacks import ModelCheckpoint\n",
    "from sklearn.metrics import classification_report\n",
    "from keras.models import load_model\n",
    "from time import time\n",
    "import matplotlib.pyplot as plt\n",
    "from numpy import expand_dims"
   ]
  },
  {
   "cell_type": "markdown",
   "metadata": {},
   "source": [
    "# Making the function to load the photos and crop them them "
   ]
  },
  {
   "cell_type": "markdown",
   "metadata": {},
   "source": [
    "## We use the MTCNN face detector to detect the faces in the images and then crop them and save a new dataset with cropped faces\n"
   ]
  },
  {
   "cell_type": "markdown",
   "metadata": {},
   "source": [
    "## The dataset for neural network require many pictures, for the available dataset on the     internet we used subset of the LFW face recognition famous datset \n",
    "## The subset we used the top 5 classes each has more than 100 pictures (less than 1000 in total)"
   ]
  },
  {
   "cell_type": "markdown",
   "metadata": {},
   "source": [
    "<img src=\"Capture.png\" width=\"800\" height=\"400\">\n"
   ]
  },
  {
   "cell_type": "code",
   "execution_count": 21,
   "metadata": {},
   "outputs": [
    {
     "name": "stdout",
     "output_type": "stream",
     "text": [
      ">loaded 109 examples for class: Colin_Powell\n",
      ">loaded 109 examples for class: Donald_Rumsfeld\n",
      ">loaded 109 examples for class: George_W_Bush\n",
      ">loaded 109 examples for class: Gerhard_Schroeder\n",
      ">loaded 109 examples for class: Tony_Blair\n"
     ]
    }
   ],
   "source": [
    "required_size=(160, 160) # the requre size for MTCNN model\n",
    "directory = \"dat/\" # the dataset directory \n",
    "X, y = list(), list() # training and labels list \n",
    "\n",
    "for subdir in listdir(directory):\n",
    "\n",
    "    path = directory + subdir + '/' # the path of the image\n",
    "    faces = list() # faces list for all faces in the directory \n",
    "    \n",
    "    for filename in listdir(path):  # loop for all files\n",
    "        filepath = path + filename #file path\n",
    "\n",
    "        image = Image.open(filepath)# load the inage from the path\n",
    "        image = image.convert('RGB') #convert the image to RGB (MTCNN requires RGB images )\n",
    "        pixels = asarray(image) # the aimage as an array of pixels  \n",
    "        detector = MTCNN() # face detector \n",
    "        results = detector.detect_faces(pixels) # the face \n",
    "        x1, y1, width, height = results[0]['box'] # creat the boundering box for the face ([0] is for tge first face in the image)\n",
    "        x1, y1 = abs(x1), abs(y1) # take the abs of X1 and Y1 so we don't get any negative value anyway\n",
    "        x2, y2 = x1 + width, y1 + height # boundary box dimension\n",
    "        face = pixels[y1:y2, x1:x2] # face \n",
    "        image = Image.fromarray(face) # get the image from the array \n",
    "        image = image.resize(required_size) # resize to 160 * 160\n",
    "        face_array = asarray(image) # safe the face as array\n",
    "        faces.append(face_array) # add the face to the faces list \n",
    "\n",
    "\n",
    "    # create labels\n",
    "    labels = [subdir for _ in range(len(faces))]\n",
    "    # summarize progress\n",
    "    print('>loaded %d examples for class: %s' % (len(faces), subdir))\n",
    "    # store\n",
    "    X.extend(faces)\n",
    "    y.extend(labels)"
   ]
  },
  {
   "cell_type": "markdown",
   "metadata": {},
   "source": [
    "# We split the data into 3 parts for training testing and validation"
   ]
  },
  {
   "cell_type": "code",
   "execution_count": 22,
   "metadata": {},
   "outputs": [
    {
     "data": {
      "text/plain": [
       "((545, 160, 160, 3), (545,))"
      ]
     },
     "execution_count": 22,
     "metadata": {},
     "output_type": "execute_result"
    }
   ],
   "source": [
    "\n",
    "X = np.asarray(X)\n",
    "y = np.asarray(y)\n",
    "X.shape, y.shape"
   ]
  },
  {
   "cell_type": "code",
   "execution_count": 23,
   "metadata": {
    "scrolled": false
   },
   "outputs": [
    {
     "name": "stdout",
     "output_type": "stream",
     "text": [
      "(50, 160, 160, 3) (50,)\n",
      "(114, 160, 160, 3) (114,)\n",
      "(381, 160, 160, 3) (381,)\n"
     ]
    }
   ],
   "source": [
    "from sklearn.model_selection import train_test_split\n",
    "\n",
    "X = np.asarray(X)\n",
    "y = np.asarray(y)\n",
    "X_train, X_test, y_train, y_test = train_test_split(X, y, test_size=0.3)\n",
    "\n",
    "Xtest, Xval, ytest, yval = train_test_split(X_test,y_test, test_size=0.3)\n",
    "\n",
    "# divide the databy 255 to keep the value betwwwn 0 - 1\n",
    "X_train = X_train.astype('float32')/255\n",
    "Xtest = Xtest.astype('float32')/255\n",
    "Xval = Xval.astype('float32')/255\n",
    "\n",
    "print(Xval.shape, yval.shape)\n",
    "print(Xtest.shape, ytest.shape)\n",
    "\n",
    "print(X_train.shape, y_train.shape)\n"
   ]
  },
  {
   "cell_type": "markdown",
   "metadata": {},
   "source": [
    "# Encode the label using label encoder "
   ]
  },
  {
   "cell_type": "code",
   "execution_count": 24,
   "metadata": {},
   "outputs": [],
   "source": [
    "\n",
    "label_encoder = LabelEncoder()\n",
    "y_train_encoded = label_encoder.fit_transform(y_train)\n",
    "ytest_encoded = label_encoder.fit_transform(ytest)\n",
    "yval_encoded = label_encoder.fit_transform(yval)"
   ]
  },
  {
   "cell_type": "code",
   "execution_count": 25,
   "metadata": {},
   "outputs": [
    {
     "name": "stdout",
     "output_type": "stream",
     "text": [
      "(381, 5)\n"
     ]
    }
   ],
   "source": [
    "trainY = to_categorical(y_train_encoded)\n",
    "testY = to_categorical(ytest_encoded)\n",
    "valY = to_categorical(yval_encoded)\n",
    "print(trainY.shape)"
   ]
  },
  {
   "cell_type": "markdown",
   "metadata": {},
   "source": [
    "# Design the CNN model archetecture "
   ]
  },
  {
   "cell_type": "code",
   "execution_count": 26,
   "metadata": {},
   "outputs": [],
   "source": [
    "from keras.models import Sequential\n",
    "from keras.layers import Conv2D, MaxPooling2D\n",
    "from keras.layers import Activation, Dropout, Flatten, Dense"
   ]
  },
  {
   "cell_type": "code",
   "execution_count": 27,
   "metadata": {},
   "outputs": [],
   "source": [
    "model = Sequential()\n",
    "\n",
    "model.add(Conv2D(32, (3, 3), padding='same', activation=\"relu\"))\n",
    "model.add(MaxPooling2D(pool_size=(3, 3)))\n",
    "\n",
    "\n",
    "model.add(Conv2D(64, (3, 3), padding=\"same\", activation=\"relu\"))\n",
    "model.add(MaxPooling2D(pool_size=(3, 3)))\n",
    "\n",
    "model.add(Conv2D(128, (3, 3), padding=\"same\", activation=\"relu\"))\n",
    "model.add(MaxPooling2D(pool_size=(3, 3)))\n",
    "\n",
    "model.add(Dropout(0.3))\n",
    "\n",
    "model.add(Flatten())\n",
    "\n",
    "model.add(Dense(64, activation='relu'))\n",
    "model.add(Dense(5, activation='softmax'))\n",
    "\n",
    "model.compile(loss=keras.losses.categorical_crossentropy,\n",
    "              optimizer=keras.optimizers.adam(),\n",
    "              metrics=['accuracy'])"
   ]
  },
  {
   "cell_type": "code",
   "execution_count": 28,
   "metadata": {},
   "outputs": [
    {
     "name": "stdout",
     "output_type": "stream",
     "text": [
      "Train on 381 samples, validate on 50 samples\n",
      "Epoch 1/30\n",
      "381/381 [==============================] - 8s 21ms/step - loss: 1.6432 - accuracy: 0.1864 - val_loss: 1.6023 - val_accuracy: 0.2800\n",
      "Epoch 2/30\n",
      "381/381 [==============================] - 6s 16ms/step - loss: 1.6087 - accuracy: 0.2441 - val_loss: 1.6083 - val_accuracy: 0.2200\n",
      "Epoch 3/30\n",
      "381/381 [==============================] - 6s 15ms/step - loss: 1.6020 - accuracy: 0.2336 - val_loss: 1.6182 - val_accuracy: 0.1400\n",
      "Epoch 4/30\n",
      "381/381 [==============================] - 6s 15ms/step - loss: 1.5949 - accuracy: 0.2598 - val_loss: 1.5792 - val_accuracy: 0.4000\n",
      "Epoch 5/30\n",
      "381/381 [==============================] - 6s 17ms/step - loss: 1.5719 - accuracy: 0.3701 - val_loss: 1.5400 - val_accuracy: 0.4600\n",
      "Epoch 6/30\n",
      "381/381 [==============================] - 6s 15ms/step - loss: 1.5224 - accuracy: 0.4042 - val_loss: 1.4715 - val_accuracy: 0.3200\n",
      "Epoch 7/30\n",
      "381/381 [==============================] - 6s 17ms/step - loss: 1.4474 - accuracy: 0.3543 - val_loss: 1.4523 - val_accuracy: 0.4400\n",
      "Epoch 8/30\n",
      "381/381 [==============================] - 6s 15ms/step - loss: 1.3766 - accuracy: 0.4777 - val_loss: 1.2832 - val_accuracy: 0.5600\n",
      "Epoch 9/30\n",
      "381/381 [==============================] - 6s 15ms/step - loss: 1.2314 - accuracy: 0.5197 - val_loss: 1.3390 - val_accuracy: 0.4600\n",
      "Epoch 10/30\n",
      "381/381 [==============================] - 6s 14ms/step - loss: 1.1896 - accuracy: 0.5643 - val_loss: 1.1806 - val_accuracy: 0.5800\n",
      "Epoch 11/30\n",
      "381/381 [==============================] - 6s 17ms/step - loss: 1.0702 - accuracy: 0.6142 - val_loss: 0.9832 - val_accuracy: 0.6600\n",
      "Epoch 12/30\n",
      "381/381 [==============================] - 6s 15ms/step - loss: 0.9502 - accuracy: 0.6903 - val_loss: 0.9190 - val_accuracy: 0.6200\n",
      "Epoch 13/30\n",
      "381/381 [==============================] - 6s 16ms/step - loss: 0.8133 - accuracy: 0.7218 - val_loss: 0.9844 - val_accuracy: 0.6600\n",
      "Epoch 14/30\n",
      "381/381 [==============================] - 6s 15ms/step - loss: 0.7955 - accuracy: 0.7165 - val_loss: 0.8558 - val_accuracy: 0.6800\n",
      "Epoch 15/30\n",
      "381/381 [==============================] - 6s 15ms/step - loss: 0.7878 - accuracy: 0.7060 - val_loss: 0.7306 - val_accuracy: 0.7800\n",
      "Epoch 16/30\n",
      "381/381 [==============================] - 6s 15ms/step - loss: 0.8033 - accuracy: 0.7060 - val_loss: 0.6194 - val_accuracy: 0.8000\n",
      "Epoch 17/30\n",
      "381/381 [==============================] - 6s 15ms/step - loss: 0.6428 - accuracy: 0.7822 - val_loss: 0.6242 - val_accuracy: 0.7600\n",
      "Epoch 18/30\n",
      "381/381 [==============================] - 6s 15ms/step - loss: 0.5041 - accuracy: 0.8530 - val_loss: 0.4753 - val_accuracy: 0.8000\n",
      "Epoch 19/30\n",
      "381/381 [==============================] - 6s 16ms/step - loss: 0.4772 - accuracy: 0.8635 - val_loss: 0.4430 - val_accuracy: 0.8600\n",
      "Epoch 20/30\n",
      "381/381 [==============================] - 6s 15ms/step - loss: 0.4292 - accuracy: 0.8478 - val_loss: 0.5266 - val_accuracy: 0.8000\n",
      "Epoch 21/30\n",
      "381/381 [==============================] - 6s 15ms/step - loss: 0.4834 - accuracy: 0.8320 - val_loss: 0.4541 - val_accuracy: 0.8600\n",
      "Epoch 22/30\n",
      "381/381 [==============================] - 6s 15ms/step - loss: 0.3639 - accuracy: 0.8845 - val_loss: 0.4788 - val_accuracy: 0.8800\n",
      "Epoch 23/30\n",
      "381/381 [==============================] - 6s 15ms/step - loss: 0.3547 - accuracy: 0.8714 - val_loss: 0.3828 - val_accuracy: 0.9000\n",
      "Epoch 24/30\n",
      "381/381 [==============================] - 6s 16ms/step - loss: 0.2976 - accuracy: 0.8924 - val_loss: 0.4169 - val_accuracy: 0.8600\n",
      "Epoch 25/30\n",
      "381/381 [==============================] - 6s 16ms/step - loss: 0.2749 - accuracy: 0.9003 - val_loss: 0.3977 - val_accuracy: 0.9200\n",
      "Epoch 26/30\n",
      "381/381 [==============================] - 6s 15ms/step - loss: 0.2877 - accuracy: 0.9029 - val_loss: 0.4638 - val_accuracy: 0.7800\n",
      "Epoch 27/30\n",
      "381/381 [==============================] - 6s 16ms/step - loss: 0.2399 - accuracy: 0.9265 - val_loss: 0.3519 - val_accuracy: 0.9000\n",
      "Epoch 28/30\n",
      "381/381 [==============================] - 6s 16ms/step - loss: 0.1814 - accuracy: 0.9475 - val_loss: 0.4212 - val_accuracy: 0.8800\n",
      "Epoch 29/30\n",
      "381/381 [==============================] - 6s 15ms/step - loss: 0.1597 - accuracy: 0.9396 - val_loss: 0.3702 - val_accuracy: 0.8600\n",
      "Epoch 30/30\n",
      "381/381 [==============================] - 6s 16ms/step - loss: 0.1393 - accuracy: 0.9633 - val_loss: 0.2962 - val_accuracy: 0.9200\n"
     ]
    }
   ],
   "source": [
    "batch_size = 60\n",
    "num_epoch = 30\n",
    "#model training\n",
    "model_log = model.fit(X_train, trainY,\n",
    "          batch_size=batch_size,\n",
    "          epochs=num_epoch,\n",
    "          verbose=1,\n",
    "          validation_data=(Xval, valY))"
   ]
  },
  {
   "cell_type": "code",
   "execution_count": 29,
   "metadata": {},
   "outputs": [
    {
     "name": "stdout",
     "output_type": "stream",
     "text": [
      "Model: \"sequential_2\"\n",
      "_________________________________________________________________\n",
      "Layer (type)                 Output Shape              Param #   \n",
      "=================================================================\n",
      "conv2d_13084 (Conv2D)        (None, 160, 160, 32)      896       \n",
      "_________________________________________________________________\n",
      "max_pooling2d_6544 (MaxPooli (None, 53, 53, 32)        0         \n",
      "_________________________________________________________________\n",
      "conv2d_13085 (Conv2D)        (None, 53, 53, 64)        18496     \n",
      "_________________________________________________________________\n",
      "max_pooling2d_6545 (MaxPooli (None, 17, 17, 64)        0         \n",
      "_________________________________________________________________\n",
      "conv2d_13086 (Conv2D)        (None, 17, 17, 128)       73856     \n",
      "_________________________________________________________________\n",
      "max_pooling2d_6546 (MaxPooli (None, 5, 5, 128)         0         \n",
      "_________________________________________________________________\n",
      "dropout_2 (Dropout)          (None, 5, 5, 128)         0         \n",
      "_________________________________________________________________\n",
      "flatten_2182 (Flatten)       (None, 3200)              0         \n",
      "_________________________________________________________________\n",
      "dense_7633 (Dense)           (None, 64)                204864    \n",
      "_________________________________________________________________\n",
      "dense_7634 (Dense)           (None, 5)                 325       \n",
      "=================================================================\n",
      "Total params: 298,437\n",
      "Trainable params: 298,437\n",
      "Non-trainable params: 0\n",
      "_________________________________________________________________\n"
     ]
    }
   ],
   "source": [
    "# Model summary \n",
    "model.summary()"
   ]
  },
  {
   "cell_type": "markdown",
   "metadata": {},
   "source": [
    "# Evaluate the model"
   ]
  },
  {
   "cell_type": "markdown",
   "metadata": {},
   "source": [
    "# Classification report of the testing "
   ]
  },
  {
   "cell_type": "code",
   "execution_count": 30,
   "metadata": {},
   "outputs": [
    {
     "name": "stdout",
     "output_type": "stream",
     "text": [
      "----------------------------------\n",
      "report for testing data\n",
      "              precision    recall  f1-score   support\n",
      "\n",
      "           0       0.92      0.86      0.89        28\n",
      "           1       0.83      1.00      0.90        19\n",
      "           2       1.00      0.83      0.91        24\n",
      "           3       0.76      0.76      0.76        17\n",
      "           4       0.71      0.77      0.74        26\n",
      "\n",
      "    accuracy                           0.84       114\n",
      "   macro avg       0.85      0.84      0.84       114\n",
      "weighted avg       0.85      0.84      0.84       114\n",
      "\n"
     ]
    }
   ],
   "source": [
    "\n",
    "from sklearn.metrics import classification_report\n",
    "from keras.models import load_model\n",
    "\n",
    "test_pred = model.predict(Xtest)\n",
    "test_p_label = np.argmax(test_pred, axis=1)\n",
    "test_label= np.argmax(testY, axis=1)\n",
    "print(\"----------------------------------\")\n",
    "print(\"report for testing data\")\n",
    "\n",
    "print(classification_report(test_p_label, test_label))\n"
   ]
  },
  {
   "cell_type": "code",
   "execution_count": null,
   "metadata": {},
   "outputs": [],
   "source": []
  },
  {
   "cell_type": "markdown",
   "metadata": {},
   "source": [
    "# Plot the accuracy fig"
   ]
  },
  {
   "cell_type": "code",
   "execution_count": 31,
   "metadata": {},
   "outputs": [
    {
     "data": {
      "image/png": "[encoded data removed]",
      "text/plain": [
       "<Figure size 432x288 with 1 Axes>"
      ]
     },
     "metadata": {
      "needs_background": "light"
     },
     "output_type": "display_data"
    }
   ],
   "source": [
    "plt.plot(model_log.history['accuracy'], label='accuracy')\n",
    "plt.plot(model_log.history['val_accuracy'], label = 'val_accuracy')\n",
    "plt.xlabel('Epoch')\n",
    "plt.ylabel('Accuracy')\n",
    "plt.ylim([0.5, 1])\n",
    "plt.legend(loc='lower right')\n",
    "\n",
    "test_loss, test_acc = model.evaluate(Xtest,  testY, verbose=2)"
   ]
  },
  {
   "cell_type": "markdown",
   "metadata": {},
   "source": [
    "# Plot the validation loss"
   ]
  },
  {
   "cell_type": "code",
   "execution_count": 32,
   "metadata": {},
   "outputs": [
    {
     "data": {
      "image/png": "[encoded data removed]",
      "text/plain": [
       "<Figure size 432x288 with 1 Axes>"
      ]
     },
     "metadata": {
      "needs_background": "light"
     },
     "output_type": "display_data"
    }
   ],
   "source": [
    "loss = model_log.history['loss']\n",
    "val_loss = model_log.history['val_loss']\n",
    "epochs = range(1, len(loss) + 1)\n",
    "plt.plot(epochs, loss, color='red', label='Training loss')\n",
    "plt.plot(epochs, val_loss, color='green', label='Validation loss')\n",
    "plt.title('Training and validation loss')\n",
    "plt.xlabel('Epochs')\n",
    "plt.ylabel('Loss')\n",
    "plt.legend()\n",
    "plt.show()"
   ]
  },
  {
   "cell_type": "markdown",
   "metadata": {},
   "source": [
    "# Plot the accuracy  "
   ]
  },
  {
   "cell_type": "code",
   "execution_count": 33,
   "metadata": {},
   "outputs": [
    {
     "name": "stdout",
     "output_type": "stream",
     "text": [
      "0.8421052694320679\n"
     ]
    }
   ],
   "source": [
    "print(test_acc)"
   ]
  },
  {
   "cell_type": "markdown",
   "metadata": {},
   "source": [
    "# Confusion matrix"
   ]
  },
  {
   "cell_type": "code",
   "execution_count": null,
   "metadata": {},
   "outputs": [],
   "source": []
  },
  {
   "cell_type": "code",
   "execution_count": 34,
   "metadata": {},
   "outputs": [],
   "source": [
    "from numpy import load\n",
    "from sklearn.metrics import accuracy_score\n",
    "from sklearn.preprocessing import LabelEncoder\n",
    "from sklearn.preprocessing import Normalizer\n",
    "from sklearn.svm import SVC\n",
    "from sklearn.metrics import classification_report, confusion_matrix\n",
    "from sklearn.model_selection import validation_curve\n",
    "from sklearn import metrics\n",
    "import numpy as np \n",
    "from pandas_ml import ConfusionMatrix\n",
    "import matplotlib.pyplot as plt\n",
    "from matplotlib.pyplot import plot"
   ]
  },
  {
   "cell_type": "code",
   "execution_count": 35,
   "metadata": {},
   "outputs": [],
   "source": [
    "score_train = accuracy_score(test_label, test_p_label)\n",
    "score_test = accuracy_score(test_label, test_p_label)\n",
    "matrics = confusion_matrix(test_label,test_p_label)\n"
   ]
  },
  {
   "cell_type": "code",
   "execution_count": 36,
   "metadata": {},
   "outputs": [
    {
     "data": {
      "text/plain": [
       "array([[24,  0,  1,  0,  1],\n",
       "       [ 2, 19,  1,  0,  1],\n",
       "       [ 0,  0, 20,  0,  0],\n",
       "       [ 0,  0,  0, 13,  4],\n",
       "       [ 2,  0,  2,  4, 20]], dtype=int64)"
      ]
     },
     "execution_count": 36,
     "metadata": {},
     "output_type": "execute_result"
    }
   ],
   "source": [
    "from sklearn.metrics import confusion_matrix\n",
    "confusion_matrix(test_label, test_p_label)"
   ]
  },
  {
   "cell_type": "code",
   "execution_count": 37,
   "metadata": {},
   "outputs": [
    {
     "data": {
      "image/png": "[encoded data removed]",
      "text/plain": [
       "<Figure size 648x576 with 2 Axes>"
      ]
     },
     "metadata": {
      "needs_background": "light"
     },
     "output_type": "display_data"
    }
   ],
   "source": [
    "cm = ConfusionMatrix(test_label, test_p_label)\n",
    "\n",
    "cm.plot(normalized=True)\n",
    "plt.show()"
   ]
  },
  {
   "cell_type": "markdown",
   "metadata": {},
   "source": [
    "# Calculate the FP, FN, TP and TN from the Confusion matrix "
   ]
  },
  {
   "cell_type": "code",
   "execution_count": 38,
   "metadata": {},
   "outputs": [
    {
     "name": "stdout",
     "output_type": "stream",
     "text": [
      "FP =  18\n",
      "FN =  18\n",
      "TP =  96\n",
      "TN =  438\n"
     ]
    }
   ],
   "source": [
    "FP = matrics.sum(axis=0) - np.diag(matrics)  \n",
    "FN = matrics.sum(axis=1) - np.diag(matrics)\n",
    "TP = np.diag(matrics)\n",
    "TN = matrics.sum() - (FP + FN + TP)\n",
    "print('FP = ', sum(FP))\n",
    "print('FN = ',sum(FN))\n",
    "print('TP = ',sum(TP))\n",
    "print('TN = ',sum(TN))"
   ]
  },
  {
   "cell_type": "code",
   "execution_count": null,
   "metadata": {},
   "outputs": [],
   "source": []
  },
  {
   "cell_type": "code",
   "execution_count": null,
   "metadata": {},
   "outputs": [],
   "source": []
  },
  {
   "cell_type": "code",
   "execution_count": null,
   "metadata": {},
   "outputs": [],
   "source": []
  }
 ],
 "metadata": {
  "kernelspec": {
   "display_name": "Python 3",
   "language": "python",
   "name": "python3"
  },
  "language_info": {
   "codemirror_mode": {
    "name": "ipython",
    "version": 3
   },
   "file_extension": ".py",
   "mimetype": "text/x-python",
   "name": "python",
   "nbconvert_exporter": "python",
   "pygments_lexer": "ipython3",
   "version": "3.7.4"
  }
 },
 "nbformat": 4,
 "nbformat_minor": 2
}
